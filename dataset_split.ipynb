{
 "cells": [
  {
   "cell_type": "code",
   "execution_count": 98,
   "metadata": {},
   "outputs": [
    {
     "name": "stdout",
     "output_type": "stream",
     "text": [
      "Split\tImages\tMales\tFemales\n",
      "Train\t405\t202\t203\n",
      "Val\t45\t23\t22\n",
      "Test\t50\t25\t25\n",
      "Total\t500\t250\t250\n",
      "\n",
      "Subsets successfully created and saved!\n"
     ]
    }
   ],
   "source": [
    "import os\n",
    "import pandas as pd\n",
    "from sklearn.model_selection import StratifiedShuffleSplit\n",
    "\n",
    "# read CSV file\n",
    "data = pd.read_csv('celeba-mini/celeba-mini.csv', sep=',\\s+', header=0, engine='python', index_col=0)\n",
    "labels = data['gender']\n",
    "\n",
    "# 500 images should be here\n",
    "n_images = len(data)\n",
    "# train-test will be 0.9-0.1, same inside train for train-val\n",
    "split_ratio = 0.1\n",
    "\n",
    "# fixing random_state to assure no big variations take place\n",
    "sss = StratifiedShuffleSplit(n_splits=1, test_size=split_ratio, random_state=42)\n",
    "\n",
    "for train_index, test_index in sss.split(data, labels):\n",
    "    # get data splits for train-test\n",
    "    data_all_train, data_test = data.iloc[train_index], data.iloc[test_index]\n",
    "    # get correspondent label splits for train-test\n",
    "    labels_all_train, labels_test = labels.iloc[train_index], labels.iloc[test_index]\n",
    "\n",
    "for train_index, val_index in sss.split(data_all_train, labels_all_train):\n",
    "    # get data splits for train-val\n",
    "    data_train, data_val = data_all_train.iloc[train_index], data_all_train.iloc[val_index]\n",
    "\n",
    "# Test that all sizes match\n",
    "assert(len(data_all_train) == (n_images * (1- split_ratio)))\n",
    "assert(len(data_train) == (len(data_all_train) * (1- split_ratio)))\n",
    "assert(len(data_val) == (len(data_all_train) * split_ratio))\n",
    "assert(len(data_test) == (n_images * split_ratio))\n",
    "\n",
    "# Print and Check that the splitting of classes occured correctly\n",
    "col0 = ['Train', 'Val', 'Test', 'Total']\n",
    "col1 = [len(data_train), len(data_val), len(data_test), n_images]\n",
    "col2 = [len(data_train[data_train.gender == 0]), len(data_val[data_val.gender == 0]), len(data_test[data_test.gender == 0]), len(data[data.gender == 0]) ]\n",
    "col3 = [len(data_train[data_train.gender == 1]), len(data_val[data_val.gender == 1]), len(data_test[data_test.gender == 1]), len(data[data.gender == 1]) ]\n",
    "\n",
    "print(\"Split\\tImages\\tMales\\tFemales\")\n",
    "\n",
    "for i in range(4):\n",
    "    print(f\"{col0[i]}\\t{col1[i]}\\t{col2[i]}\\t{col3[i]}\")\n",
    "\n",
    "\n",
    "data_all_train.to_csv('celeba-mini/celeba-mini-all-train.csv')\n",
    "data_train.to_csv('celeba-mini/celeba-mini-train.csv')\n",
    "data_val.to_csv('celeba-mini/celeba-mini-val.csv')\n",
    "data_test.to_csv('celeba-mini/celeba-mini-test.csv')\n",
    "\n",
    "print(\"\\nSubsets successfully created and saved!\")"
   ]
  }
 ],
 "metadata": {
  "interpreter": {
   "hash": "ad2bdc8ecc057115af97d19610ffacc2b4e99fae6737bb82f5d7fb13d2f2c186"
  },
  "kernelspec": {
   "display_name": "Python 3.8.5 ('base')",
   "language": "python",
   "name": "python3"
  },
  "language_info": {
   "codemirror_mode": {
    "name": "ipython",
    "version": 3
   },
   "file_extension": ".py",
   "mimetype": "text/x-python",
   "name": "python",
   "nbconvert_exporter": "python",
   "pygments_lexer": "ipython3",
   "version": "3.8.5"
  },
  "orig_nbformat": 4
 },
 "nbformat": 4,
 "nbformat_minor": 2
}
